{
 "cells": [
  {
   "cell_type": "markdown",
   "id": "4c1b8ad2",
   "metadata": {},
   "source": [
    "# Data Science Tools and Ecosystem"
   ]
  },
  {
   "cell_type": "markdown",
   "id": "828a069a",
   "metadata": {},
   "source": [
    "# In this notebook, Data Science Tools and Ecosystem are summarized."
   ]
  },
  {
   "cell_type": "markdown",
   "id": "46841c9d",
   "metadata": {},
   "source": [
    "**Objectives:**\n",
    "\n",
    "    - List popular languages for Data Science\n",
    "    - Arithmetics\n",
    "    - Bold and Italic fonts\n",
    "    - Headings\n",
    "    - Tables"
   ]
  },
  {
   "cell_type": "markdown",
   "id": "d743a6ff",
   "metadata": {},
   "source": [
    "### Some of the Popular languages that Data Scientists use are:\n",
    "1. Python\n",
    "2. SQL\n",
    "3. R"
   ]
  },
  {
   "cell_type": "markdown",
   "id": "67f7cfa2",
   "metadata": {},
   "source": [
    "# Some of the comonly used libraries used by Data Scientists include:\n",
    "1. NumPy\n",
    "2. Pandas\n",
    "3. Matplotlib\n"
   ]
  },
  {
   "cell_type": "markdown",
   "id": "13b7c0b4",
   "metadata": {},
   "source": [
    "|Data Science Tools|\n",
    "|------------------|\n",
    "|Jupyter Notebook|\n",
    "|Rstudio|\n",
    "|Apache Zeppelin|"
   ]
  },
  {
   "cell_type": "markdown",
   "id": "86121178",
   "metadata": {},
   "source": [
    "### Below are a few examples of evalutating arithmetic expressions in Python."
   ]
  },
  {
   "cell_type": "markdown",
   "id": "be7800d9",
   "metadata": {},
   "source": [
    "###### This is a simple arithmetic expression to multiply then add integers"
   ]
  },
  {
   "cell_type": "code",
   "execution_count": 14,
   "id": "5403a020",
   "metadata": {},
   "outputs": [
    {
     "data": {
      "text/plain": [
       "17"
      ]
     },
     "execution_count": 14,
     "metadata": {},
     "output_type": "execute_result"
    }
   ],
   "source": [
    "(3*4)+5"
   ]
  },
  {
   "cell_type": "code",
   "execution_count": 16,
   "id": "db09eca9",
   "metadata": {},
   "outputs": [
    {
     "data": {
      "text/plain": [
       "3.3333333333333335"
      ]
     },
     "execution_count": 16,
     "metadata": {},
     "output_type": "execute_result"
    }
   ],
   "source": [
    "###### This will convert 200 minutes to hours by dividing by 60.\n",
    "(200/60)"
   ]
  },
  {
   "cell_type": "markdown",
   "id": "0490b87c",
   "metadata": {},
   "source": [
    "## Author \n",
    "Marc-David"
   ]
  },
  {
   "cell_type": "code",
   "execution_count": null,
   "id": "9b303c0a",
   "metadata": {},
   "outputs": [],
   "source": []
  }
 ],
 "metadata": {
  "kernelspec": {
   "display_name": "Python 3 (ipykernel)",
   "language": "python",
   "name": "python3"
  },
  "language_info": {
   "codemirror_mode": {
    "name": "ipython",
    "version": 3
   },
   "file_extension": ".py",
   "mimetype": "text/x-python",
   "name": "python",
   "nbconvert_exporter": "python",
   "pygments_lexer": "ipython3",
   "version": "3.11.5"
  }
 },
 "nbformat": 4,
 "nbformat_minor": 5
}
